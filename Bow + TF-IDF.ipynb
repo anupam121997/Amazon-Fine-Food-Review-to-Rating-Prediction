{
 "cells": [
  {
   "cell_type": "code",
   "execution_count": 11,
   "metadata": {},
   "outputs": [],
   "source": [
    "import numpy as np\n",
    "import pandas as pd\n",
    "import matplotlib.pyplot as plt\n",
    "import seaborn as sns\n",
    "\n",
    "from wordcloud import WordCloud, STOPWORDS\n",
    "from sklearn.model_selection import train_test_split\n",
    "from sklearn.preprocessing import LabelEncoder\n",
    "from sklearn.metrics import accuracy_score, confusion_matrix\n",
    "\n",
    "import string\n",
    "import re\n",
    "\n",
    "from sklearn.feature_extraction.text import TfidfVectorizer\n",
    "from sklearn.feature_extraction.text import CountVectorizer\n",
    "from nltk.corpus import stopwords\n",
    "from nltk.stem import PorterStemmer\n",
    "from nltk.stem import WordNetLemmatizer\n",
    "\n",
    "from sklearn.linear_model import LogisticRegression\n",
    "from sklearn.naive_bayes import MultinomialNB\n",
    "\n",
    "#from keras.utils import to_categorical\n",
    "from tensorflow.keras.utils import to_categorical\n",
    "from tensorflow.keras.preprocessing.text import Tokenizer\n",
    "from tensorflow.keras.preprocessing.sequence import pad_sequences\n",
    "from tensorflow.keras.layers import Dense , LSTM , Embedding\n",
    "from tensorflow.keras.models import Sequential\n",
    "from tensorflow.keras.callbacks import EarlyStopping\n",
    "\n",
    "import warnings\n",
    "warnings.filterwarnings('ignore')\n",
    "\n",
    "import pickle\n",
    "\n",
    "from sklearn.model_selection import GridSearchCV\n",
    "from sklearn import svm\n",
    "from sklearn.ensemble import RandomForestClassifier"
   ]
  },
  {
   "cell_type": "code",
   "execution_count": 12,
   "metadata": {},
   "outputs": [],
   "source": [
    "data = pd.read_csv('Reviews.csv')"
   ]
  },
  {
   "cell_type": "code",
   "execution_count": 13,
   "metadata": {},
   "outputs": [
    {
     "data": {
      "text/plain": [
       "(568454, 10)"
      ]
     },
     "execution_count": 13,
     "metadata": {},
     "output_type": "execute_result"
    }
   ],
   "source": [
    "data.shape"
   ]
  },
  {
   "cell_type": "code",
   "execution_count": 14,
   "metadata": {},
   "outputs": [],
   "source": [
    "data.dropna(how='any',inplace=True)\n",
    "data.drop_duplicates(inplace=True, subset=['Score','Text'])\n",
    "idx = data[data[\"HelpfulnessNumerator\"]>data[\"HelpfulnessDenominator\"]].index\n",
    "data.drop(index=idx, inplace=True)"
   ]
  },
  {
   "cell_type": "code",
   "execution_count": 15,
   "metadata": {},
   "outputs": [
    {
     "data": {
      "text/plain": [
       "(393659, 10)"
      ]
     },
     "execution_count": 15,
     "metadata": {},
     "output_type": "execute_result"
    }
   ],
   "source": [
    "data.shape"
   ]
  },
  {
   "cell_type": "code",
   "execution_count": 16,
   "metadata": {},
   "outputs": [
    {
     "data": {
      "text/plain": [
       "(110000, 10)"
      ]
     },
     "execution_count": 16,
     "metadata": {},
     "output_type": "execute_result"
    }
   ],
   "source": [
    "class_1 = data.loc[data.Score==1].sample(35000)\n",
    "class_2 = data.loc[data.Score==2].sample(20000)\n",
    "class_4 = data.loc[data.Score==4].sample(20000)\n",
    "class_5 = data.loc[data.Score==5].sample(35000)\n",
    "data = pd.concat([class_1,class_2,class_4,class_5])\n",
    "data.shape"
   ]
  },
  {
   "cell_type": "code",
   "execution_count": 17,
   "metadata": {},
   "outputs": [],
   "source": [
    "def create_target(x):\n",
    "    if x > 3:\n",
    "        return \"Positive\"\n",
    "    elif x < 3:\n",
    "        return \"Negative\"\n",
    "data['target'] = data['Score'].apply(create_target)"
   ]
  },
  {
   "cell_type": "code",
   "execution_count": 18,
   "metadata": {},
   "outputs": [],
   "source": [
    "final_stopwords = stopwords.words('english')\n",
    "addition = ['•', '!', '\"', '#', '”', '“', '$', '%', '&', \"'\", '–', '(', ')', '*','’', '+', ',', '-', '.', '/', ':', ';', '<', '=', '>', '?', '@', '[', '\\\\', ']', '^', '_', '`', '{', '|', '}', '~', '0', '1', '2', '3', '4', '5', '6', '7', '8', '9', '…']\n",
    "final_stopwords.extend(addition)"
   ]
  },
  {
   "cell_type": "code",
   "execution_count": 19,
   "metadata": {},
   "outputs": [],
   "source": [
    "stemmer = PorterStemmer()\n",
    "lemmatizer = WordNetLemmatizer()\n",
    "HTMLTAGS = re.compile('<.*?>')\n",
    "table = str.maketrans(dict.fromkeys(string.punctuation))\n",
    "remove_digits = str.maketrans('', '', string.digits)\n",
    "MULTIPLE_WHITESPACE = re.compile(r\"\\s+\")"
   ]
  },
  {
   "cell_type": "code",
   "execution_count": 20,
   "metadata": {},
   "outputs": [],
   "source": [
    "def preprocessor(review):\n",
    "    review = HTMLTAGS.sub(r'', review)\n",
    "    review = review.translate(table)\n",
    "    review = review.translate(remove_digits)\n",
    "    review = review.lower()\n",
    "    review = MULTIPLE_WHITESPACE.sub(\" \", review).strip()\n",
    "    review = [word for word in review.split() if word not in final_stopwords]\n",
    "    #review = ' '.join([stemmer.stem(word) for word in review])\n",
    "    review = ' '.join([lemmatizer.lemmatize(word) for word in review])\n",
    "    return review\n",
    "\n",
    "data['Text'] = data['Text'].apply(preprocessor) "
   ]
  },
  {
   "cell_type": "code",
   "execution_count": 21,
   "metadata": {},
   "outputs": [],
   "source": [
    "X = data['Text']\n",
    "y = data['target']\n",
    "\n",
    "X_train, X_test, y_train, y_test = train_test_split(X, y, test_size=0.30, random_state=1, stratify=y)"
   ]
  },
  {
   "cell_type": "code",
   "execution_count": null,
   "metadata": {},
   "outputs": [],
   "source": []
  },
  {
   "cell_type": "code",
   "execution_count": null,
   "metadata": {},
   "outputs": [],
   "source": []
  },
  {
   "cell_type": "code",
   "execution_count": 22,
   "metadata": {},
   "outputs": [
    {
     "data": {
      "text/plain": [
       "((77000,), (33000,))"
      ]
     },
     "execution_count": 22,
     "metadata": {},
     "output_type": "execute_result"
    }
   ],
   "source": [
    "X_train.shape, X_test.shape"
   ]
  },
  {
   "cell_type": "code",
   "execution_count": 23,
   "metadata": {},
   "outputs": [],
   "source": [
    "bow_vectorizer = CountVectorizer(max_features=10000)\n",
    "bow_vectorizer.fit(X_train)\n",
    "bow_X_train = bow_vectorizer.transform(X_train)\n",
    "bow_X_test = bow_vectorizer.transform(X_test)"
   ]
  },
  {
   "cell_type": "code",
   "execution_count": 24,
   "metadata": {},
   "outputs": [],
   "source": [
    "tfidf_vectorizer = TfidfVectorizer(max_features=10000)\n",
    "tfidf_vectorizer.fit(X_train)\n",
    "tfidf_X_train = tfidf_vectorizer.transform(X_train)\n",
    "tfidf_X_test = tfidf_vectorizer.transform(X_test)"
   ]
  },
  {
   "cell_type": "code",
   "execution_count": 25,
   "metadata": {},
   "outputs": [],
   "source": [
    "labelEncoder = LabelEncoder()\n",
    "\n",
    "y_train = labelEncoder.fit_transform(y_train)\n",
    "y_test = labelEncoder.transform(y_test)\n",
    "labels = labelEncoder.classes_.tolist()"
   ]
  },
  {
   "cell_type": "code",
   "execution_count": 26,
   "metadata": {},
   "outputs": [],
   "source": [
    "def train_and_eval(model, trainX, trainY, testX, testY):\n",
    "    model.fit(trainX, trainY)\n",
    "    y_preds_train = model.predict(trainX)\n",
    "    y_preds_test = model.predict(testX)\n",
    "    print()\n",
    "    print(model)\n",
    "    print(f\"Train accuracy score : {accuracy_score(y_train, y_preds_train)}\")\n",
    "    print(f\"Test accuracy score : {accuracy_score(y_test, y_preds_test)}\")\n",
    "    print('\\n',40*'-')"
   ]
  },
  {
   "cell_type": "code",
   "execution_count": 27,
   "metadata": {},
   "outputs": [
    {
     "name": "stdout",
     "output_type": "stream",
     "text": [
      "\n",
      "LogisticRegression(C=0.001, max_iter=500, random_state=1)\n",
      "Train accuracy score : 0.8328181818181818\n",
      "Test accuracy score : 0.8298181818181818\n",
      "\n",
      " ----------------------------------------\n",
      "\n",
      "LogisticRegression(C=0.01, max_iter=500, random_state=1)\n",
      "Train accuracy score : 0.8701818181818182\n",
      "Test accuracy score : 0.8602727272727273\n",
      "\n",
      " ----------------------------------------\n",
      "\n",
      "LogisticRegression(C=0.1, max_iter=500, random_state=1)\n",
      "Train accuracy score : 0.8939480519480519\n",
      "Test accuracy score : 0.8692727272727273\n",
      "\n",
      " ----------------------------------------\n",
      "\n",
      "LogisticRegression(C=1, max_iter=500, random_state=1)\n",
      "Train accuracy score : 0.9124675324675324\n",
      "Test accuracy score : 0.8642121212121212\n",
      "\n",
      " ----------------------------------------\n",
      "\n",
      "LogisticRegression(C=10, max_iter=500, random_state=1)\n",
      "Train accuracy score : 0.9214805194805195\n",
      "Test accuracy score : 0.8514848484848485\n",
      "\n",
      " ----------------------------------------\n"
     ]
    }
   ],
   "source": [
    "C = [0.001, 0.01, 0.1, 1, 10]\n",
    "for c in C: \n",
    "    log_model = LogisticRegression(C=c, max_iter=500, random_state=1)\n",
    "    train_and_eval(log_model,bow_X_train,y_train,bow_X_test,y_test)"
   ]
  },
  {
   "cell_type": "code",
   "execution_count": 28,
   "metadata": {},
   "outputs": [
    {
     "name": "stdout",
     "output_type": "stream",
     "text": [
      "\n",
      "SVC()\n",
      "Train accuracy score : 0.9387142857142857\n",
      "Test accuracy score : 0.8655151515151516\n",
      "\n",
      " ----------------------------------------\n"
     ]
    }
   ],
   "source": [
    "clf = svm.SVC(kernel='rbf')\n",
    "train_and_eval(clf,bow_X_train,y_train,bow_X_test,y_test)"
   ]
  },
  {
   "cell_type": "code",
   "execution_count": 26,
   "metadata": {},
   "outputs": [
    {
     "data": {
      "text/plain": [
       "GridSearchCV(cv=5, estimator=RandomForestClassifier(random_state=42),\n",
       "             param_grid={'criterion': ['entropy', 'gini'],\n",
       "                         'max_depth': [4, 5, 6, 7, 8],\n",
       "                         'max_features': ['auto', 'sqrt', 'log2'],\n",
       "                         'n_estimators': [200, 500]})"
      ]
     },
     "execution_count": 26,
     "metadata": {},
     "output_type": "execute_result"
    }
   ],
   "source": [
    "rfc=RandomForestClassifier(random_state=42)\n",
    "\n",
    "param_grid = { \n",
    "    'n_estimators': [200, 500],\n",
    "    'max_features': ['auto', 'sqrt', 'log2'],\n",
    "    'max_depth' : [4,5,6,7,8],\n",
    "    'criterion' :['entropy', 'gini']\n",
    "}\n",
    "CV_rfc = GridSearchCV(estimator=rfc, param_grid=param_grid, cv= 5)\n",
    "CV_rfc.fit(bow_X_train,y_train)"
   ]
  },
  {
   "cell_type": "code",
   "execution_count": 27,
   "metadata": {},
   "outputs": [
    {
     "data": {
      "text/plain": [
       "{'criterion': 'gini',\n",
       " 'max_depth': 8,\n",
       " 'max_features': 'log2',\n",
       " 'n_estimators': 500}"
      ]
     },
     "execution_count": 27,
     "metadata": {},
     "output_type": "execute_result"
    }
   ],
   "source": [
    "CV_rfc.best_params_"
   ]
  },
  {
   "cell_type": "code",
   "execution_count": 28,
   "metadata": {},
   "outputs": [
    {
     "name": "stdout",
     "output_type": "stream",
     "text": [
      "\n",
      "RandomForestClassifier(max_depth=8, max_features='log2', n_estimators=500,\n",
      "                       random_state=42)\n",
      "Train accuracy score : 0.8472597402597403\n",
      "Test accuracy score : 0.829030303030303\n",
      "\n",
      " ----------------------------------------\n"
     ]
    }
   ],
   "source": [
    "clf = RandomForestClassifier(random_state=42, max_features='log2', n_estimators= 500, max_depth=8, criterion='gini')\n",
    "train_and_eval(clf,bow_X_train,y_train,bow_X_test,y_test)"
   ]
  },
  {
   "cell_type": "code",
   "execution_count": null,
   "metadata": {},
   "outputs": [],
   "source": []
  }
 ],
 "metadata": {
  "kernelspec": {
   "display_name": "Python 3",
   "language": "python",
   "name": "python3"
  },
  "language_info": {
   "codemirror_mode": {
    "name": "ipython",
    "version": 3
   },
   "file_extension": ".py",
   "mimetype": "text/x-python",
   "name": "python",
   "nbconvert_exporter": "python",
   "pygments_lexer": "ipython3",
   "version": "3.8.6"
  }
 },
 "nbformat": 4,
 "nbformat_minor": 4
}
