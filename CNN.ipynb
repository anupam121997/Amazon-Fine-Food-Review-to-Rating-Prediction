{
 "cells": [
  {
   "cell_type": "code",
   "execution_count": 1,
   "metadata": {},
   "outputs": [],
   "source": [
    "import pandas as pd"
   ]
  },
  {
   "cell_type": "code",
   "execution_count": 2,
   "metadata": {},
   "outputs": [],
   "source": [
    "data = pd.read_csv('Reviews.csv')"
   ]
  },
  {
   "cell_type": "code",
   "execution_count": 3,
   "metadata": {},
   "outputs": [],
   "source": [
    "data.dropna(how='any',inplace=True)\n",
    "data.drop_duplicates(inplace=True, subset=['Score','Text'])\n",
    "idx = data[data[\"HelpfulnessNumerator\"]>data[\"HelpfulnessDenominator\"]].index\n",
    "data.drop(index=idx, inplace=True)"
   ]
  },
  {
   "cell_type": "code",
   "execution_count": 4,
   "metadata": {},
   "outputs": [],
   "source": [
    "def create_target(x):\n",
    "    return 2 if x>3 else 0 if x<3 else 1\n",
    "data['target'] = data['Score'].apply(create_target)"
   ]
  },
  {
   "cell_type": "code",
   "execution_count": 5,
   "metadata": {},
   "outputs": [],
   "source": [
    "neutral = data.loc[data.target == 1]\n",
    "positive = data.loc[data.target == 2].sample(50000)\n",
    "negative = data.loc[data.target == 0].sample(50000)\n",
    "data = pd.concat([positive, negative, neutral])"
   ]
  },
  {
   "cell_type": "code",
   "execution_count": 6,
   "metadata": {},
   "outputs": [],
   "source": [
    "from sklearn.model_selection import train_test_split\n",
    "from tensorflow.keras.preprocessing.text import Tokenizer\n",
    "from tensorflow.keras.preprocessing.sequence import pad_sequences"
   ]
  },
  {
   "cell_type": "code",
   "execution_count": 7,
   "metadata": {},
   "outputs": [],
   "source": [
    "sentences = data['Text'].values\n",
    "y = data['target'].values"
   ]
  },
  {
   "cell_type": "code",
   "execution_count": 8,
   "metadata": {},
   "outputs": [],
   "source": [
    "import tensorflow as tf\n",
    "from tensorflow.keras.utils import to_categorical\n",
    "y_cat = to_categorical(y)"
   ]
  },
  {
   "cell_type": "code",
   "execution_count": 9,
   "metadata": {},
   "outputs": [],
   "source": [
    "sentences_train,sentences_test,y_train,y_test = train_test_split(sentences, y_cat, test_size=0.25, random_state=1000, stratify = y_cat)"
   ]
  },
  {
   "cell_type": "code",
   "execution_count": 10,
   "metadata": {},
   "outputs": [],
   "source": [
    "tokenizer = Tokenizer(num_words=5000)\n",
    "tokenizer.fit_on_texts(sentences_train)"
   ]
  },
  {
   "cell_type": "code",
   "execution_count": 11,
   "metadata": {},
   "outputs": [],
   "source": [
    "X_train = tokenizer.texts_to_sequences(sentences_train)\n",
    "X_test = tokenizer.texts_to_sequences(sentences_test)"
   ]
  },
  {
   "cell_type": "code",
   "execution_count": 12,
   "metadata": {},
   "outputs": [
    {
     "data": {
      "text/plain": [
       "55"
      ]
     },
     "execution_count": 12,
     "metadata": {},
     "output_type": "execute_result"
    }
   ],
   "source": [
    "len(X_train[0])"
   ]
  },
  {
   "cell_type": "code",
   "execution_count": 13,
   "metadata": {},
   "outputs": [],
   "source": [
    "vocab_size = len(tokenizer.word_index) + 1                          \n",
    "maxlen = 100\n",
    "X_train = pad_sequences(X_train, padding='post', maxlen=maxlen)\n",
    "X_test = pad_sequences(X_test, padding='post', maxlen=maxlen)"
   ]
  },
  {
   "cell_type": "code",
   "execution_count": 14,
   "metadata": {},
   "outputs": [
    {
     "data": {
      "text/plain": [
       "(97327, 100)"
      ]
     },
     "execution_count": 14,
     "metadata": {},
     "output_type": "execute_result"
    }
   ],
   "source": [
    "X_train.shape"
   ]
  },
  {
   "cell_type": "code",
   "execution_count": 15,
   "metadata": {},
   "outputs": [],
   "source": [
    "import numpy as np\n",
    "\n",
    "def create_embedding_matrix(filepath, word_index, embedding_dim):\n",
    "    vocab_size = len(word_index) + 1  \n",
    "    embedding_matrix = np.zeros((vocab_size, embedding_dim))\n",
    "    with open(filepath, 'r', encoding = 'utf8') as f:\n",
    "        for line in f:\n",
    "            word, *vector = line.split()\n",
    "            if word in word_index:\n",
    "                idx = word_index[word] \n",
    "                embedding_matrix[idx] = np.array(vector, dtype=np.float32)[:embedding_dim]\n",
    "\n",
    "    return embedding_matrix"
   ]
  },
  {
   "cell_type": "code",
   "execution_count": 16,
   "metadata": {},
   "outputs": [],
   "source": [
    "embedding_dim = 50\n",
    "embedding_matrix = create_embedding_matrix('glove.6B.50d.txt', tokenizer.word_index, embedding_dim)"
   ]
  },
  {
   "cell_type": "code",
   "execution_count": 18,
   "metadata": {},
   "outputs": [
    {
     "name": "stdout",
     "output_type": "stream",
     "text": [
      "Epoch 1/10\n",
      "9733/9733 [==============================] - 553s 57ms/step - loss: 0.7549 - accuracy: 0.6647 - val_loss: 0.6779 - val_accuracy: 0.6965\n",
      "Epoch 2/10\n",
      "9733/9733 [==============================] - 558s 57ms/step - loss: 0.6316 - accuracy: 0.7220 - val_loss: 0.6444 - val_accuracy: 0.7174\n",
      "Epoch 3/10\n",
      "9733/9733 [==============================] - 561s 58ms/step - loss: 0.5728 - accuracy: 0.7515 - val_loss: 0.6426 - val_accuracy: 0.7189\n",
      "Epoch 4/10\n",
      "9733/9733 [==============================] - 579s 59ms/step - loss: 0.5168 - accuracy: 0.7829 - val_loss: 0.6803 - val_accuracy: 0.7100\n",
      "Epoch 5/10\n",
      "9733/9733 [==============================] - 553s 57ms/step - loss: 0.4569 - accuracy: 0.8162 - val_loss: 0.7248 - val_accuracy: 0.7056\n",
      "Epoch 6/10\n",
      "9733/9733 [==============================] - 579s 59ms/step - loss: 0.3913 - accuracy: 0.8509 - val_loss: 0.7892 - val_accuracy: 0.7036\n",
      "Epoch 7/10\n",
      "9733/9733 [==============================] - 580s 60ms/step - loss: 0.3303 - accuracy: 0.8811 - val_loss: 0.9268 - val_accuracy: 0.7032\n",
      "Epoch 8/10\n",
      "9733/9733 [==============================] - 560s 58ms/step - loss: 0.2810 - accuracy: 0.9046 - val_loss: 1.0164 - val_accuracy: 0.6889\n",
      "Epoch 9/10\n",
      "9733/9733 [==============================] - 573s 59ms/step - loss: 0.2439 - accuracy: 0.9222 - val_loss: 1.2608 - val_accuracy: 0.6930\n",
      "Epoch 10/10\n",
      "9733/9733 [==============================] - 577s 59ms/step - loss: 0.2162 - accuracy: 0.9322 - val_loss: 1.4361 - val_accuracy: 0.6898\n"
     ]
    }
   ],
   "source": [
    "from tensorflow.keras.models import Sequential\n",
    "from tensorflow.keras import layers\n",
    "embedding_dim = 50\n",
    "\n",
    "model = Sequential()\n",
    "model.add(layers.Embedding(vocab_size, embedding_dim, input_length=maxlen, weights = [embedding_matrix]))\n",
    "model.add(layers.Conv1D(128, 5, activation='relu'))\n",
    "model.add(layers.GlobalMaxPooling1D())\n",
    "model.add(layers.Dense(10, activation='relu'))\n",
    "model.add(layers.Dense(3, activation='softmax'))\n",
    "model.compile(optimizer='adam', loss='categorical_crossentropy', metrics=['accuracy'])\n",
    "history = model.fit(X_train, y_train, epochs=10, validation_data=(X_test, y_test), batch_size=10)"
   ]
  },
  {
   "cell_type": "code",
   "execution_count": 19,
   "metadata": {},
   "outputs": [
    {
     "name": "stdout",
     "output_type": "stream",
     "text": [
      "1014/1014 [==============================] - ETA: 0s - loss: 1.4365 - accuracy: 0.68 - 6s 6ms/step - loss: 1.4361 - accuracy: 0.6898\n"
     ]
    },
    {
     "data": {
      "text/plain": [
       "0.6898252367973328"
      ]
     },
     "execution_count": 19,
     "metadata": {},
     "output_type": "execute_result"
    }
   ],
   "source": [
    "y = model.evaluate(x = X_test, y = y_test)\n",
    "y[1]"
   ]
  },
  {
   "cell_type": "code",
   "execution_count": null,
   "metadata": {},
   "outputs": [],
   "source": []
  }
 ],
 "metadata": {
  "kernelspec": {
   "display_name": "Python 3",
   "language": "python",
   "name": "python3"
  },
  "language_info": {
   "codemirror_mode": {
    "name": "ipython",
    "version": 3
   },
   "file_extension": ".py",
   "mimetype": "text/x-python",
   "name": "python",
   "nbconvert_exporter": "python",
   "pygments_lexer": "ipython3",
   "version": "3.8.6"
  }
 },
 "nbformat": 4,
 "nbformat_minor": 4
}
