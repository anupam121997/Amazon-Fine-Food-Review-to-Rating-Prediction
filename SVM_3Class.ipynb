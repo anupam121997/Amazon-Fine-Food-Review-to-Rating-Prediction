{
 "cells": [
  {
   "cell_type": "code",
   "execution_count": 1,
   "metadata": {},
   "outputs": [],
   "source": [
    "import numpy as np\n",
    "import pandas as pd\n",
    "\n",
    "from sklearn.pipeline import make_pipeline\n",
    "from sklearn.feature_extraction.text import TfidfVectorizer\n",
    "\n",
    "from sklearn.model_selection import train_test_split\n",
    "from sklearn.preprocessing import LabelEncoder\n",
    "from sklearn.metrics import accuracy_score, confusion_matrix\n",
    "\n",
    "import string\n",
    "import re\n",
    "\n",
    "from nltk.corpus import stopwords\n",
    "from nltk.stem import PorterStemmer\n",
    "from nltk.stem import WordNetLemmatizer\n",
    "\n",
    "from tensorflow.keras.utils import to_categorical\n",
    "\n",
    "import joblib\n",
    "import pickle\n",
    "\n",
    "from sklearn import svm\n",
    "\n",
    "import matplotlib.pyplot as plt"
   ]
  },
  {
   "cell_type": "code",
   "execution_count": 2,
   "metadata": {},
   "outputs": [],
   "source": [
    "data = pd.read_csv('Reviews.csv')"
   ]
  },
  {
   "cell_type": "code",
   "execution_count": 3,
   "metadata": {},
   "outputs": [],
   "source": [
    "data.dropna(how='any',inplace=True)\n",
    "data.drop_duplicates(inplace=True, subset=['Score','Text'])\n",
    "idx = data[data[\"HelpfulnessNumerator\"]>data[\"HelpfulnessDenominator\"]].index\n",
    "data.drop(index=idx, inplace=True)"
   ]
  },
  {
   "cell_type": "code",
   "execution_count": 4,
   "metadata": {},
   "outputs": [
    {
     "data": {
      "text/plain": [
       "5    250737\n",
       "4     56073\n",
       "1     36277\n",
       "3     29770\n",
       "2     20802\n",
       "Name: Score, dtype: int64"
      ]
     },
     "execution_count": 4,
     "metadata": {},
     "output_type": "execute_result"
    }
   ],
   "source": [
    "data['Score'].value_counts()"
   ]
  },
  {
   "cell_type": "code",
   "execution_count": 5,
   "metadata": {},
   "outputs": [
    {
     "data": {
      "text/plain": [
       "(119770, 10)"
      ]
     },
     "execution_count": 5,
     "metadata": {},
     "output_type": "execute_result"
    }
   ],
   "source": [
    "class_1 = data.loc[data.Score==1].sample(30000)\n",
    "class_2 = data.loc[data.Score==2].sample(15000)\n",
    "class_3 = data.loc[data.Score==3].sample(29770)\n",
    "class_4 = data.loc[data.Score==4].sample(15000)\n",
    "class_5 = data.loc[data.Score==5].sample(30000)\n",
    "data = pd.concat([class_1,class_2,class_3,class_4,class_5])\n",
    "data.shape"
   ]
  },
  {
   "cell_type": "code",
   "execution_count": 6,
   "metadata": {},
   "outputs": [],
   "source": [
    "def create_target(x):\n",
    "    if x > 3:\n",
    "        return \"Positive\"\n",
    "    elif x < 3:\n",
    "        return \"Negative\"\n",
    "    else:\n",
    "        return \"Neutral\"\n",
    "data['target'] = data['Score'].apply(create_target)"
   ]
  },
  {
   "cell_type": "code",
   "execution_count": 7,
   "metadata": {},
   "outputs": [],
   "source": [
    "stemmer = PorterStemmer()\n",
    "lemmatizer = WordNetLemmatizer()\n",
    "HTMLTAGS = re.compile('<.*?>')\n",
    "table = str.maketrans(dict.fromkeys(string.punctuation))\n",
    "remove_digits = str.maketrans('', '', string.digits)\n",
    "MULTIPLE_WHITESPACE = re.compile(r\"\\s+\")"
   ]
  },
  {
   "cell_type": "code",
   "execution_count": 8,
   "metadata": {},
   "outputs": [],
   "source": [
    "def preprocessor(review):\n",
    "    review = HTMLTAGS.sub(r'', review)\n",
    "    review = review.translate(table)\n",
    "    review = review.translate(remove_digits)\n",
    "    review = review.lower()\n",
    "    review = MULTIPLE_WHITESPACE.sub(\" \", review).strip()\n",
    "    #review = [word for word in review.split() if word not in final_stopwords]\n",
    "    #review = ' '.join([stemmer.stem(word) for word in review])\n",
    "    review = review.split()\n",
    "    review = ' '.join([lemmatizer.lemmatize(word) for word in review])\n",
    "    #review = ' '.join(k for k in review)\n",
    "    #print(review)\n",
    "    return review\n",
    "\n",
    "data['Text'] = data['Text'].apply(preprocessor) "
   ]
  },
  {
   "cell_type": "code",
   "execution_count": 9,
   "metadata": {},
   "outputs": [],
   "source": [
    "X = data['Text']\n",
    "y = data['target']\n",
    "\n",
    "#X_train, X_test, y_train, y_test = train_test_split(X, y, test_size=0.30, random_state=0, stratify=y)"
   ]
  },
  {
   "cell_type": "code",
   "execution_count": 13,
   "metadata": {},
   "outputs": [],
   "source": [
    "X_train = X[:83839]\n",
    "y_train = X[83839:]\n",
    "y_train = y[:83839]\n",
    "y_test = y[83839:]"
   ]
  },
  {
   "cell_type": "code",
   "execution_count": 37,
   "metadata": {},
   "outputs": [
    {
     "data": {
      "text/plain": [
       "Pipeline(steps=[('tfidfvectorizer', TfidfVectorizer()), ('svc', SVC())])"
      ]
     },
     "execution_count": 37,
     "metadata": {},
     "output_type": "execute_result"
    }
   ],
   "source": [
    "model=make_pipeline(TfidfVectorizer(),svm.SVC(kernel='rbf'))\n",
    "model.fit(X_train, y_train)"
   ]
  },
  {
   "cell_type": "code",
   "execution_count": 38,
   "metadata": {},
   "outputs": [
    {
     "data": {
      "text/plain": [
       "['svm_model_3class.sav']"
      ]
     },
     "execution_count": 38,
     "metadata": {},
     "output_type": "execute_result"
    }
   ],
   "source": [
    "#joblib.dump(model,\"svm_model_3class.sav\")"
   ]
  },
  {
   "cell_type": "code",
   "execution_count": 14,
   "metadata": {},
   "outputs": [],
   "source": [
    "load_model = joblib.load(\"svm_model_3class.sav\")"
   ]
  },
  {
   "cell_type": "code",
   "execution_count": null,
   "metadata": {},
   "outputs": [],
   "source": [
    "#labels_train = load_model.predict(X_train)\n",
    "labels_test = load_model.predict(X_test)\n",
    "\n",
    "#print(\"Training Accuracy:\",accuracy_score(y_train, labels_train)*100)\n",
    "print(\"Validation Accuracy:\",accuracy_score(y_test, labels_test)*100)"
   ]
  },
  {
   "cell_type": "code",
   "execution_count": null,
   "metadata": {},
   "outputs": [],
   "source": [
    "cm = confusion_matrix(y_test, labels_test)\n",
    "print(\"Confusion Matrix is: \\n\",cm)\n",
    "cm = cm.astype('float') / cm.sum(axis=1)[:, np.newaxis]\n",
    "print(\"classWise accuracy is:\\t\",cm.diagonal()*100)"
   ]
  },
  {
   "cell_type": "code",
   "execution_count": null,
   "metadata": {},
   "outputs": [],
   "source": [
    "from sklearn.naive_bayes import MultinomialNB\n",
    "model=make_pipeline(TfidfVectorizer(),MultinomialNB())\n",
    "model.fit(X_train, y_train)\n",
    "\n",
    "labels_train = model.predict(X_train)\n",
    "labels_test = model.predict(X_test)\n",
    "\n",
    "print(\"Training Accuracy:\",accuracy_score(y_train, labels_train)*100)\n",
    "print(\"Validation Accuracy:\",accuracy_score(y_test, labels_test)*100)"
   ]
  },
  {
   "cell_type": "code",
   "execution_count": null,
   "metadata": {},
   "outputs": [],
   "source": [
    "from sklearn.ensemble import RandomForestClassifier\n",
    "model=make_pipeline(TfidfVectorizer(),RandomForestClassifier())\n",
    "model.fit(X_train, y_train)\n",
    "\n",
    "labels_train = model.predict(X_train)\n",
    "labels_test = model.predict(X_test)\n",
    "\n",
    "print(\"Training Accuracy:\",accuracy_score(y_train, labels_train)*100)\n",
    "print(\"Validation Accuracy:\",accuracy_score(y_test, labels_test)*100)"
   ]
  },
  {
   "cell_type": "code",
   "execution_count": null,
   "metadata": {},
   "outputs": [],
   "source": [
    "from xgboost import XGBClassifier\n",
    "model=make_pipeline(TfidfVectorizer(),XGBClassifier())\n",
    "model.fit(X_train, y_train)\n",
    "\n",
    "labels_train = model.predict(X_train)\n",
    "labels_test = model.predict(X_test)\n",
    "\n",
    "print(\"Training Accuracy:\",accuracy_score(y_train, labels_train)*100)\n",
    "print(\"Validation Accuracy:\",accuracy_score(y_test, labels_test)*100)"
   ]
  },
  {
   "cell_type": "code",
   "execution_count": null,
   "metadata": {},
   "outputs": [],
   "source": [
    "# text = input(\"Enter any text:\\t\")\n",
    "# text = preprocessor(text)\n",
    "# print(load_model.predict([text]))"
   ]
  },
  {
   "cell_type": "code",
   "execution_count": 40,
   "metadata": {},
   "outputs": [
    {
     "data": {
      "text/plain": [
       "Pipeline(steps=[('tfidfvectorizer', TfidfVectorizer()), ('svc', SVC())])"
      ]
     },
     "execution_count": 40,
     "metadata": {},
     "output_type": "execute_result"
    }
   ],
   "source": [
    "# model=make_pipeline(TfidfVectorizer(),svm.SVC(kernel='rbf'))\n",
    "# model.fit(X, y)"
   ]
  },
  {
   "cell_type": "code",
   "execution_count": 41,
   "metadata": {},
   "outputs": [
    {
     "data": {
      "text/plain": [
       "['svm_3class.sav']"
      ]
     },
     "execution_count": 41,
     "metadata": {},
     "output_type": "execute_result"
    }
   ],
   "source": [
    "# joblib.dump(model,\"svm_3class.sav\")"
   ]
  },
  {
   "cell_type": "code",
   "execution_count": null,
   "metadata": {},
   "outputs": [],
   "source": []
  }
 ],
 "metadata": {
  "kernelspec": {
   "display_name": "Python 3",
   "language": "python",
   "name": "python3"
  },
  "language_info": {
   "codemirror_mode": {
    "name": "ipython",
    "version": 3
   },
   "file_extension": ".py",
   "mimetype": "text/x-python",
   "name": "python",
   "nbconvert_exporter": "python",
   "pygments_lexer": "ipython3",
   "version": "3.8.6"
  }
 },
 "nbformat": 4,
 "nbformat_minor": 4
}
