{
  "nbformat": 4,
  "nbformat_minor": 0,
  "metadata": {
    "colab": {
      "name": "practice_8.ipynb",
      "provenance": []
    },
    "kernelspec": {
      "name": "python3",
      "display_name": "Python 3"
    },
    "language_info": {
      "name": "python"
    },
    "accelerator": "GPU"
  },
  "cells": [
    {
      "cell_type": "code",
      "metadata": {
        "colab": {
          "base_uri": "https://localhost:8080/"
        },
        "id": "zCP9KY3qgzSm",
        "outputId": "5110fd30-35c8-467d-8ee7-b83bcb592974"
      },
      "source": [
        "from google.colab import drive\n",
        "drive.mount('/content/drive')"
      ],
      "execution_count": 1,
      "outputs": [
        {
          "output_type": "stream",
          "name": "stdout",
          "text": [
            "Mounted at /content/drive\n"
          ]
        }
      ]
    },
    {
      "cell_type": "code",
      "metadata": {
        "id": "Gd_9eqX7hEQ1"
      },
      "source": [
        "import pickle\n",
        "file_to_read = open(\"/content/drive/MyDrive/NLP_project/X_train_final_anupam\", \"rb\")\n",
        "X_train = pickle.load(file_to_read)\n",
        "file_to_read = open(\"/content/drive/MyDrive/NLP_project/y_train_final_anupam\", \"rb\")\n",
        "y_train = pickle.load(file_to_read)"
      ],
      "execution_count": 2,
      "outputs": []
    },
    {
      "cell_type": "code",
      "metadata": {
        "colab": {
          "base_uri": "https://localhost:8080/"
        },
        "id": "s_Yr3ZEyhETn",
        "outputId": "a71c20c8-3aa3-4eed-ede0-da8fa678f5c4"
      },
      "source": [
        "X_train.shape"
      ],
      "execution_count": 3,
      "outputs": [
        {
          "output_type": "execute_result",
          "data": {
            "text/plain": [
              "(109770, 60, 100)"
            ]
          },
          "metadata": {},
          "execution_count": 3
        }
      ]
    },
    {
      "cell_type": "code",
      "metadata": {
        "colab": {
          "base_uri": "https://localhost:8080/"
        },
        "id": "Vpg0SCQ_hEWO",
        "outputId": "ef5c20f9-dd90-4b27-ed77-93c08fad97d2"
      },
      "source": [
        "y_train.shape"
      ],
      "execution_count": 4,
      "outputs": [
        {
          "output_type": "execute_result",
          "data": {
            "text/plain": [
              "(109770, 1, 3)"
            ]
          },
          "metadata": {},
          "execution_count": 4
        }
      ]
    },
    {
      "cell_type": "code",
      "metadata": {
        "id": "IyKDgmqYhEY2"
      },
      "source": [
        "import tensorflow as tf\n",
        "import keras \n",
        "title_input = keras.Input(\n",
        "    shape=(60,100), name=\"title\"\n",
        ")\n",
        "y1=keras.layers.Conv1D(40,2,activation='relu',input_shape=(60,100))(title_input)\n",
        "#y2=keras.layers.Conv1D(32,2,activation='relu',input_shape=(100,100))(title_input)\n",
        "y3=keras.layers.Conv1D(40,3,activation='relu',input_shape=(60,100))(title_input)\n",
        "#y4=keras.layers.Conv1D(32,3,activation='relu',input_shape=(60,100))(title_input)\n",
        "y5=keras.layers.Conv1D(40,4,activation='relu',input_shape=(60,100))(title_input)\n",
        "y6=keras.layers.Conv1D(40,5,activation='relu',input_shape=(60,100))(title_input)\n",
        "\n",
        "m1=tf.keras.layers.MaxPooling1D(pool_size=59,strides=1)(y1)\n",
        "#m2=tf.keras.layers.MaxPooling1D(pool_size=59,strides=1)(y2)\n",
        "m3=tf.keras.layers.MaxPooling1D(pool_size=58,strides=1)(y3)\n",
        "#m4=tf.keras.layers.MaxPooling1D(pool_size=58,strides=1)(y4)\n",
        "m5=tf.keras.layers.MaxPooling1D(pool_size=57,strides=1)(y5)\n",
        "m6=tf.keras.layers.MaxPooling1D(pool_size=56,strides=1)(y6)\n",
        "\n",
        "#concanate = tf.keras.layers.concatenate([m1,m2,m3,m4,m5,m6])\n",
        "concanate = tf.keras.layers.concatenate([m1,m3,m5,m6])\n",
        "#den_lay1 = tf.keras.layers.Dense(256, name=\"MLP1\")(concanate)\n",
        "\n",
        "#den_lay2 = tf.keras.layers.Dense(128, name=\"MLP2\")(den_lay1)\n",
        "\n",
        "den_lay3 = tf.keras.layers.Dense(64, name=\"MLP3\")(concanate)\n",
        "\n",
        "den_lay4 = tf.keras.layers.Dense(32, name=\"MLP4\")(den_lay3)\n",
        "\n",
        "den_lay5 = tf.keras.layers.Dense(16, name=\"MLP5\")(den_lay4)\n",
        "\n",
        "op_lay = tf.keras.layers.Dense(3, activation='softmax',name=\"priority\")(den_lay5)\n",
        "\n",
        "model = keras.Model(\n",
        "    inputs=[title_input],\n",
        "    outputs=[op_lay],\n",
        ")\n",
        "\n",
        "model.compile(optimizer='adam', loss='categorical_crossentropy', metrics=['accuracy'])"
      ],
      "execution_count": 5,
      "outputs": []
    },
    {
      "cell_type": "code",
      "metadata": {
        "colab": {
          "base_uri": "https://localhost:8080/"
        },
        "id": "a6ABuGukhEbm",
        "outputId": "71853c12-a5c0-4a7d-dc54-b17bdcf8dc7a"
      },
      "source": [
        "model.fit(X_train[:90000],y_train[:90000],validation_split=0.1,epochs=10)"
      ],
      "execution_count": 6,
      "outputs": [
        {
          "output_type": "stream",
          "name": "stdout",
          "text": [
            "Epoch 1/10\n",
            "2532/2532 [==============================] - 47s 15ms/step - loss: 0.8808 - accuracy: 0.5887 - val_loss: 0.8004 - val_accuracy: 0.6282\n",
            "Epoch 2/10\n",
            "2532/2532 [==============================] - 36s 14ms/step - loss: 0.7772 - accuracy: 0.6493 - val_loss: 0.8637 - val_accuracy: 0.6129\n",
            "Epoch 3/10\n",
            "2532/2532 [==============================] - 36s 14ms/step - loss: 0.7307 - accuracy: 0.6770 - val_loss: 0.8040 - val_accuracy: 0.6371\n",
            "Epoch 4/10\n",
            "2532/2532 [==============================] - 36s 14ms/step - loss: 0.6907 - accuracy: 0.6976 - val_loss: 0.7708 - val_accuracy: 0.6461\n",
            "Epoch 5/10\n",
            "2532/2532 [==============================] - 36s 14ms/step - loss: 0.6521 - accuracy: 0.7186 - val_loss: 0.7847 - val_accuracy: 0.6460\n",
            "Epoch 6/10\n",
            "2532/2532 [==============================] - 36s 14ms/step - loss: 0.6135 - accuracy: 0.7370 - val_loss: 0.8764 - val_accuracy: 0.6241\n",
            "Epoch 7/10\n",
            "2532/2532 [==============================] - 36s 14ms/step - loss: 0.5820 - accuracy: 0.7511 - val_loss: 0.8560 - val_accuracy: 0.6310\n",
            "Epoch 8/10\n",
            "2532/2532 [==============================] - 36s 14ms/step - loss: 0.5502 - accuracy: 0.7672 - val_loss: 0.8684 - val_accuracy: 0.6390\n",
            "Epoch 9/10\n",
            "2532/2532 [==============================] - 36s 14ms/step - loss: 0.5220 - accuracy: 0.7814 - val_loss: 0.9023 - val_accuracy: 0.6316\n",
            "Epoch 10/10\n",
            "2532/2532 [==============================] - 36s 14ms/step - loss: 0.4982 - accuracy: 0.7913 - val_loss: 0.9384 - val_accuracy: 0.6312\n"
          ]
        },
        {
          "output_type": "execute_result",
          "data": {
            "text/plain": [
              "<keras.callbacks.History at 0x7f6fe2bb6110>"
            ]
          },
          "metadata": {},
          "execution_count": 6
        }
      ]
    },
    {
      "cell_type": "code",
      "metadata": {
        "id": "70polNjUhEeO"
      },
      "source": [
        "import tensorflow as tf\n",
        "y_pred=model.predict(X_train[90000:])\n",
        "#con_mat = tf.math.confusion_matrix(labels=y_train[90000:], predictions=y_pred).numpy()"
      ],
      "execution_count": 9,
      "outputs": []
    },
    {
      "cell_type": "code",
      "metadata": {
        "colab": {
          "base_uri": "https://localhost:8080/"
        },
        "id": "j5Wdph8JlFYO",
        "outputId": "a10d846c-4e59-4229-c762-d3384bc2286f"
      },
      "source": [
        "y_pred.shape"
      ],
      "execution_count": 10,
      "outputs": [
        {
          "output_type": "execute_result",
          "data": {
            "text/plain": [
              "(19770, 1, 3)"
            ]
          },
          "metadata": {},
          "execution_count": 10
        }
      ]
    },
    {
      "cell_type": "code",
      "metadata": {
        "colab": {
          "base_uri": "https://localhost:8080/"
        },
        "id": "yeHSW3uNnyg2",
        "outputId": "e95b597c-6e8a-4bee-f1fd-b5cf1518d1b6"
      },
      "source": [
        "y_pred[0][0]"
      ],
      "execution_count": 17,
      "outputs": [
        {
          "output_type": "execute_result",
          "data": {
            "text/plain": [
              "array([0.35753807, 0.49510047, 0.14736149], dtype=float32)"
            ]
          },
          "metadata": {},
          "execution_count": 17
        }
      ]
    },
    {
      "cell_type": "code",
      "metadata": {
        "id": "Balrq3vmoGDm"
      },
      "source": [
        "for i in range(y_pred.shape[0]):\n",
        "  if(y_pred[i][0][0]>y_pred[i][0][1] and y_pred[i][0][0]>y_pred[i][0][2]):\n",
        "    y_pred[i][0][0]=1\n",
        "    y_pred[i][0][1]=0\n",
        "    y_pred[i][0][2]=0\n",
        "  elif(y_pred[i][0][1]>y_pred[i][0][0] and y_pred[i][0][1]>y_pred[i][0][2]):\n",
        "    y_pred[i][0][1]=1\n",
        "    y_pred[i][0][0]=0\n",
        "    y_pred[i][0][2]=0\n",
        "  else:\n",
        "    y_pred[i][0][2]=1\n",
        "    y_pred[i][0][0]=0\n",
        "    y_pred[i][0][1]=0"
      ],
      "execution_count": 18,
      "outputs": []
    },
    {
      "cell_type": "code",
      "metadata": {
        "id": "E3gn_zTtlRIF"
      },
      "source": [
        "matrix=[[0,0,0],[0,0,0],[0,0,0]]\n",
        "for i in range(y_pred.shape[0]):\n",
        "  if(y_train[90000+i][0][0]==1):\n",
        "    if(y_pred[i][0][0]==1):\n",
        "      matrix[0][0]+=1\n",
        "    if(y_pred[i][0][1]==1):\n",
        "      matrix[0][1]+=1\n",
        "    if(y_pred[i][0][2]==1):\n",
        "      matrix[0][2]+=1\n",
        "  elif(y_train[90000+i][0][1]==1):\n",
        "    if(y_pred[i][0][0]==1):\n",
        "      matrix[1][0]+=1\n",
        "    if(y_pred[i][0][1]==1):\n",
        "      matrix[1][1]+=1\n",
        "    if(y_pred[i][0][2]==1):\n",
        "      matrix[1][2]+=1\n",
        "  else:\n",
        "    if(y_pred[i][0][0]==1):\n",
        "      matrix[2][0]+=1\n",
        "    if(y_pred[i][0][1]==1):\n",
        "      matrix[2][1]+=1\n",
        "    if(y_pred[i][0][2]==1):\n",
        "      matrix[2][2]+=1"
      ],
      "execution_count": 19,
      "outputs": []
    },
    {
      "cell_type": "code",
      "metadata": {
        "colab": {
          "base_uri": "https://localhost:8080/"
        },
        "id": "oLGdHZOCnkTX",
        "outputId": "87597d08-f953-47ce-f7d8-7ef52a9ab877"
      },
      "source": [
        "matrix"
      ],
      "execution_count": 20,
      "outputs": [
        {
          "output_type": "execute_result",
          "data": {
            "text/plain": [
              "[[5052, 1007, 1162], [1640, 1704, 1935], [808, 596, 5866]]"
            ]
          },
          "metadata": {},
          "execution_count": 20
        }
      ]
    },
    {
      "cell_type": "code",
      "metadata": {
        "id": "GbZG2UtdhEg3"
      },
      "source": [
        "import numpy as np\n",
        "import pandas as pd\n",
        "con_mat_norm = np.around(con_mat.astype('float') / con_mat.sum(axis=1)[:, np.newaxis], decimals=2)\n",
        "\n",
        "con_mat_df = pd.DataFrame(con_mat_norm,\n",
        "                     index = classes, \n",
        "                     columns = classes)"
      ],
      "execution_count": null,
      "outputs": []
    },
    {
      "cell_type": "code",
      "metadata": {
        "id": "Dse_xFCRhEjw"
      },
      "source": [
        "import matplotlib.pyplot as plt\n",
        "figure = plt.figure(figsize=(8, 8))\n",
        "sns.heatmap(con_mat_df, annot=True,cmap=plt.cm.Blues)\n",
        "plt.tight_layout()\n",
        "plt.ylabel('True label')\n",
        "plt.xlabel('Predicted label')\n",
        "plt.show()"
      ],
      "execution_count": null,
      "outputs": []
    },
    {
      "cell_type": "code",
      "metadata": {
        "id": "bLLXbt9bhEme"
      },
      "source": [
        "model.pre"
      ],
      "execution_count": null,
      "outputs": []
    },
    {
      "cell_type": "code",
      "metadata": {
        "id": "7aHeIXNjhEpW"
      },
      "source": [
        ""
      ],
      "execution_count": null,
      "outputs": []
    }
  ]
}