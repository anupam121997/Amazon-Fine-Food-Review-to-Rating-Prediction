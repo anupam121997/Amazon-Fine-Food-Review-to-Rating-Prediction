{
 "cells": [
  {
   "cell_type": "code",
   "execution_count": 23,
   "metadata": {},
   "outputs": [],
   "source": [
    "import numpy as np\n",
    "import pandas as pd\n",
    "\n",
    "from sklearn.pipeline import make_pipeline\n",
    "from sklearn.feature_extraction.text import TfidfVectorizer\n",
    "\n",
    "from sklearn.model_selection import train_test_split\n",
    "from sklearn.preprocessing import LabelEncoder\n",
    "from sklearn.metrics import accuracy_score, confusion_matrix\n",
    "\n",
    "import string\n",
    "import re\n",
    "\n",
    "from nltk.corpus import stopwords\n",
    "from nltk.stem import PorterStemmer\n",
    "from nltk.stem import WordNetLemmatizer\n",
    "\n",
    "from tensorflow.keras.utils import to_categorical\n",
    "\n",
    "import joblib\n",
    "\n",
    "from sklearn import svm"
   ]
  },
  {
   "cell_type": "code",
   "execution_count": 24,
   "metadata": {},
   "outputs": [],
   "source": [
    "data = pd.read_csv('Reviews.csv')"
   ]
  },
  {
   "cell_type": "code",
   "execution_count": 25,
   "metadata": {},
   "outputs": [],
   "source": [
    "data.dropna(how='any',inplace=True)\n",
    "data.drop_duplicates(inplace=True, subset=['Score','Text'])\n",
    "idx = data[data[\"HelpfulnessNumerator\"]>data[\"HelpfulnessDenominator\"]].index\n",
    "data.drop(index=idx, inplace=True)"
   ]
  },
  {
   "cell_type": "code",
   "execution_count": 26,
   "metadata": {},
   "outputs": [
    {
     "data": {
      "text/plain": [
       "5    250737\n",
       "4     56073\n",
       "1     36277\n",
       "3     29770\n",
       "2     20802\n",
       "Name: Score, dtype: int64"
      ]
     },
     "execution_count": 26,
     "metadata": {},
     "output_type": "execute_result"
    }
   ],
   "source": [
    "data['Score'].value_counts()"
   ]
  },
  {
   "cell_type": "code",
   "execution_count": 27,
   "metadata": {},
   "outputs": [
    {
     "data": {
      "text/plain": [
       "(114379, 10)"
      ]
     },
     "execution_count": 27,
     "metadata": {},
     "output_type": "execute_result"
    }
   ],
   "source": [
    "class_1 = data.loc[data.Score==1].sample(36277)\n",
    "class_2 = data.loc[data.Score==2].sample(20802)\n",
    "class_4 = data.loc[data.Score==4].sample(21000)\n",
    "class_5 = data.loc[data.Score==5].sample(36300)\n",
    "data = pd.concat([class_1,class_2,class_4,class_5])\n",
    "data.shape"
   ]
  },
  {
   "cell_type": "code",
   "execution_count": 28,
   "metadata": {},
   "outputs": [],
   "source": [
    "def create_target(x):\n",
    "    if x > 3:\n",
    "        return \"Positive\"\n",
    "    elif x < 3:\n",
    "        return \"Negative\"\n",
    "data['target'] = data['Score'].apply(create_target)"
   ]
  },
  {
   "cell_type": "code",
   "execution_count": 29,
   "metadata": {},
   "outputs": [],
   "source": [
    "# final_stopwords = stopwords.words('english')\n",
    "# addition = ['•', '!', '\"', '#', '”', '“', '$', '%', '&', \"'\", '–', '(', ')', '*','’', '+', ',', '-', '.', '/', ':', ';', '<', '=', '>', '?', '@', '[', '\\\\', ']', '^', '_', '`', '{', '|', '}', '~', '0', '1', '2', '3', '4', '5', '6', '7', '8', '9', '…']\n",
    "# final_stopwords.extend(addition)"
   ]
  },
  {
   "cell_type": "code",
   "execution_count": 30,
   "metadata": {},
   "outputs": [],
   "source": [
    "stemmer = PorterStemmer()\n",
    "lemmatizer = WordNetLemmatizer()\n",
    "HTMLTAGS = re.compile('<.*?>')\n",
    "table = str.maketrans(dict.fromkeys(string.punctuation))\n",
    "remove_digits = str.maketrans('', '', string.digits)\n",
    "MULTIPLE_WHITESPACE = re.compile(r\"\\s+\")"
   ]
  },
  {
   "cell_type": "code",
   "execution_count": 31,
   "metadata": {},
   "outputs": [],
   "source": [
    "def preprocessor(review):\n",
    "    review = HTMLTAGS.sub(r'', review)\n",
    "    review = review.translate(table)\n",
    "    review = review.translate(remove_digits)\n",
    "    review = review.lower()\n",
    "    review = MULTIPLE_WHITESPACE.sub(\" \", review).strip()\n",
    "    #review = [word for word in review.split() if word not in final_stopwords]\n",
    "    #review = ' '.join([stemmer.stem(word) for word in review])\n",
    "    review = review.split()\n",
    "    review = ' '.join([lemmatizer.lemmatize(word) for word in review])\n",
    "    #review = ' '.join(k for k in review)\n",
    "    #print(review)\n",
    "    return review\n",
    "\n",
    "data['Text'] = data['Text'].apply(preprocessor) "
   ]
  },
  {
   "cell_type": "code",
   "execution_count": 32,
   "metadata": {},
   "outputs": [],
   "source": [
    "X = data['Text']\n",
    "y = data['target']\n",
    "\n",
    "X_train, X_test, y_train, y_test = train_test_split(X, y, test_size=0.30, random_state=0, stratify=y)"
   ]
  },
  {
   "cell_type": "code",
   "execution_count": 11,
   "metadata": {},
   "outputs": [],
   "source": [
    "# labelEncoder = LabelEncoder()\n",
    "\n",
    "# y_train = labelEncoder.fit_transform(y_train)\n",
    "# y_test = labelEncoder.transform(y_test)\n",
    "# labels = labelEncoder.classes_.tolist()"
   ]
  },
  {
   "cell_type": "code",
   "execution_count": 13,
   "metadata": {},
   "outputs": [],
   "source": [
    "model=make_pipeline(TfidfVectorizer(),svm.SVC(kernel='rbf'))\n",
    "model.fit(X_train, y_train)"
   ]
  },
  {
   "cell_type": "code",
   "execution_count": 14,
   "metadata": {},
   "outputs": [],
   "source": [
    "#joblib.dump(model,\"svm_model_2class.sav\")"
   ]
  },
  {
   "cell_type": "code",
   "execution_count": 37,
   "metadata": {},
   "outputs": [],
   "source": [
    "load_model = joblib.load(\"svm_model_2class.sav\")"
   ]
  },
  {
   "cell_type": "code",
   "execution_count": 38,
   "metadata": {},
   "outputs": [
    {
     "name": "stdout",
     "output_type": "stream",
     "text": [
      "Training Accuracy: 92.54480734403298\n",
      "Validation Accuracy: 92.67063006353092\n"
     ]
    }
   ],
   "source": [
    "labels_train = load_model.predict(X_train)\n",
    "labels_test = load_model.predict(X_test)\n",
    "\n",
    "print(\"Training Accuracy:\",accuracy_score(y_train, labels_train)*100)\n",
    "print(\"Validation Accuracy:\",accuracy_score(y_test, labels_test)*100)"
   ]
  },
  {
   "cell_type": "code",
   "execution_count": 39,
   "metadata": {},
   "outputs": [
    {
     "name": "stdout",
     "output_type": "stream",
     "text": [
      "Training Accuracy: 90.20545806532193\n",
      "Validation Accuracy: 88.0515241592353\n"
     ]
    }
   ],
   "source": [
    "from sklearn.linear_model import LogisticRegression\n",
    "model=make_pipeline(TfidfVectorizer(),LogisticRegression(C=1, max_iter=500, random_state=1))\n",
    "model.fit(X_train, y_train)\n",
    "\n",
    "labels_train = model.predict(X_train)\n",
    "labels_test = model.predict(X_test)\n",
    "\n",
    "print(\"Training Accuracy:\",accuracy_score(y_train, labels_train)*100)\n",
    "print(\"Validation Accuracy:\",accuracy_score(y_test, labels_test)*100)"
   ]
  },
  {
   "cell_type": "code",
   "execution_count": 34,
   "metadata": {},
   "outputs": [
    {
     "name": "stdout",
     "output_type": "stream",
     "text": [
      "Training Accuracy: 89.00143633297945\n",
      "Validation Accuracy: 85.35874570146295\n"
     ]
    }
   ],
   "source": [
    "from sklearn.naive_bayes import MultinomialNB\n",
    "model=make_pipeline(TfidfVectorizer(),MultinomialNB())\n",
    "model.fit(X_train, y_train)\n",
    "\n",
    "labels_train = model.predict(X_train)\n",
    "labels_test = model.predict(X_test)\n",
    "\n",
    "print(\"Training Accuracy:\",accuracy_score(y_train, labels_train)*100)\n",
    "print(\"Validation Accuracy:\",accuracy_score(y_test, labels_test)*100)"
   ]
  },
  {
   "cell_type": "code",
   "execution_count": 35,
   "metadata": {},
   "outputs": [
    {
     "name": "stdout",
     "output_type": "stream",
     "text": [
      "Training Accuracy: 99.99750202960095\n",
      "Validation Accuracy: 84.56315206621204\n"
     ]
    }
   ],
   "source": [
    "from sklearn.ensemble import RandomForestClassifier\n",
    "model=make_pipeline(TfidfVectorizer(),RandomForestClassifier())\n",
    "model.fit(X_train, y_train)\n",
    "\n",
    "labels_train = model.predict(X_train)\n",
    "labels_test = model.predict(X_test)\n",
    "\n",
    "print(\"Training Accuracy:\",accuracy_score(y_train, labels_train)*100)\n",
    "print(\"Validation Accuracy:\",accuracy_score(y_test, labels_test)*100)"
   ]
  },
  {
   "cell_type": "code",
   "execution_count": 36,
   "metadata": {},
   "outputs": [
    {
     "name": "stderr",
     "output_type": "stream",
     "text": [
      "c:\\users\\lenovo\\appdata\\local\\programs\\python\\python38\\lib\\site-packages\\xgboost\\sklearn.py:1146: UserWarning: The use of label encoder in XGBClassifier is deprecated and will be removed in a future release. To remove this warning, do the following: 1) Pass option use_label_encoder=False when constructing XGBClassifier object; and 2) Encode your labels (y) as integers starting with 0, i.e. 0, 1, 2, ..., [num_class - 1].\n",
      "  warnings.warn(label_encoder_deprecation_msg, UserWarning)\n"
     ]
    },
    {
     "name": "stdout",
     "output_type": "stream",
     "text": [
      "[16:33:53] WARNING: C:/Users/Administrator/workspace/xgboost-win64_release_1.4.0/src/learner.cc:1095: Starting in XGBoost 1.3.0, the default evaluation metric used with the objective 'binary:logistic' was changed from 'error' to 'logloss'. Explicitly set eval_metric if you'd like to restore the old behavior.\n",
      "Training Accuracy: 89.95441204021732\n",
      "Validation Accuracy: 84.93034912863554\n"
     ]
    }
   ],
   "source": [
    "from xgboost import XGBClassifier\n",
    "model=make_pipeline(TfidfVectorizer(),XGBClassifier())\n",
    "model.fit(X_train, y_train)\n",
    "\n",
    "labels_train = model.predict(X_train)\n",
    "labels_test = model.predict(X_test)\n",
    "\n",
    "print(\"Training Accuracy:\",accuracy_score(y_train, labels_train)*100)\n",
    "print(\"Validation Accuracy:\",accuracy_score(y_test, labels_test)*100)"
   ]
  },
  {
   "cell_type": "code",
   "execution_count": null,
   "metadata": {},
   "outputs": [],
   "source": [
    "# text = input(\"Enter any text:\\t\")\n",
    "# text = preprocessor(text)\n",
    "# print(load_model.predict([text]))"
   ]
  },
  {
   "cell_type": "code",
   "execution_count": null,
   "metadata": {},
   "outputs": [],
   "source": [
    "# model=make_pipeline(TfidfVectorizer(),svm.SVC(kernel='rbf'))\n",
    "# model.fit(X, y)"
   ]
  },
  {
   "cell_type": "code",
   "execution_count": null,
   "metadata": {},
   "outputs": [],
   "source": [
    "# joblib.dump(model,\"svm_2class.sav\")"
   ]
  },
  {
   "cell_type": "code",
   "execution_count": null,
   "metadata": {},
   "outputs": [],
   "source": []
  }
 ],
 "metadata": {
  "kernelspec": {
   "display_name": "Python 3",
   "language": "python",
   "name": "python3"
  },
  "language_info": {
   "codemirror_mode": {
    "name": "ipython",
    "version": 3
   },
   "file_extension": ".py",
   "mimetype": "text/x-python",
   "name": "python",
   "nbconvert_exporter": "python",
   "pygments_lexer": "ipython3",
   "version": "3.8.6"
  }
 },
 "nbformat": 4,
 "nbformat_minor": 4
}
